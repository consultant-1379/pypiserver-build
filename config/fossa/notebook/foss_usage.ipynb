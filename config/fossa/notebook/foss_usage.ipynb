{
 "cells": [
  {
   "cell_type": "code",
   "execution_count": 2,
   "metadata": {},
   "outputs": [],
   "source": [
    "COMPONENT='packager'\n",
    "FOSSA_DEPENDENCIES = f\"../dependencies.{COMPONENT}.yaml\"\n",
    "OUTPUT_FILE = f\"../foss.usage.{COMPONENT}.yaml\""
   ]
  },
  {
   "cell_type": "code",
   "execution_count": 3,
   "metadata": {},
   "outputs": [
    {
     "data": {
      "text/plain": [
       "{'ISC': '\"Including the full license text in a prominent place with the software when the FOSS is distributed.\"\\n',\n",
       " 'MIT': '\"Including the full license text in a prominent place with the software when the FOSS is distributed.\\nThis fulfills, The MIT copyright notice and the MIT permission notices shall be included in all copies or\\nsubstantial portions of the software (in whatever format, either in binary or in source)\"\\n',\n",
       " 'BSD-3-Clause': '\"Including the full license text in a prominent place with the software when the FOSS is distributed. \\nThis fulfills the following: Redistributions of source code must retain the above copyright notice, this list of conditions and the license disclaimer.\\nRedistributions in binary form must reproduce the copyright notice, this list of conditions and the disclaimer in the documentation and/or\\nother materials provided with the distribution\"\\n',\n",
       " 'Apache-2.0': '\"Including the full license text in a prominent place with the software when the FOSS is distributed.\\nThis fulfills the following: Ericsson must give any recipients of the software a copy of the Apache License.\\nEricsson must cause any modified files to carry prominent notices stating that Ericsson changed the files.\\nIn any source form Ericsson distributes, all copyright, patent, trademark and attribution notices must be retained.\\nIf the software includes a NOTICE text file as part of its distribution,\\nthen any derivative work Ericsson distributes must include a readable copy of the attribution notices contained within such NOTICE file.\"\\n',\n",
       " 'BSD-2-Clause': '\"Including the full license text in a prominent place with the software when the FOSS is distributed. \\nThis fulfills the following: Redistributions of source code must retain the above copyright notice, this list of conditions and the license disclaimer.\\nRedistributions in binary form must reproduce the copyright notice, this list of conditions and the disclaimer in the documentation and/or\\nother materials provided with the distribution\"\\n',\n",
       " 'EPL-1.0': '\"Including the full license text in a prominent place with the software when the FOSS is distributed.\"\\n',\n",
       " 'EPL-2.0': '\"Including the full license text in a prominent place with the software when the FOSS is distributed.\"\\n',\n",
       " 'CC0-1.0': '\"Ericsson should not remove any copyright notices within the software\"\\n',\n",
       " 'WTFPL': '\"Ericsson is permitted to copy and distribute verbatim or modified \\ncopies of license document, and changing it is allowed as long as the license name is changed.\"\\n',\n",
       " 'GPL-3.0-or-later': '\"Ericsson must on each copy publish an appropriate copyright notice and disclaimer of warranty and keep intact all notices that refer to the GPLv3 license.\\nEricsson must distribute a copy of the GPLv3 license along with the FOSS.\\nThe files modified must carry prominent notices stating that you changed the files and the date of any change.\\nIf GPLv3-FOSS is used by some program/executable that has interactive user interfaces, the program/executable must be modified so that the GPLv3 license is displayed as well.\\nEricsson must distribute the Corresponding Source Code of the GPL-FOSS to receivers, including modifications and additions that constitute derivative work within the meaning of GPLv3. The scope of source code to be provided: all source code needed to generate, install and run the object code and to modify the work, including e.g. scripts and interface definition files. But not general-purpose tools.\\nThe source code specified above must be provided to customers, mainly on either (a) a \\'durable physical medium customarily used for software interchange\\', or (b) through access to a \\'designated place\\', which could be network server. (b) is permitted if the object code is also provided from the same designated place or is conveyed using peer-to-peer transmission.\\nEricsson must distribute the GPL-FOSSes and its derivative works under the GPLv3 license terms only, and not under Ericsson\\'s standard proprietary terms. Ericsson may not impose any further restrictions on the recipient\\'s exercise of the rights to the GPL-FOSSes.\\nWill any GPLv3 software be included on Ericsson mobile platform, so that the any GPLv3 code will end up on a mobile phone, tablet or other consumer device? If the answer is YES, then it is highly likely that the FOSS cannot be approved. The reason is that some of Ericsson\\'s customers have explicitly forbidden ST-Ericson to use GPLv3 FOSSes in this way. The background is the so-called anti-tivoization requirements in article 6 of GPLv3, which would require customers to provide \\'Installation Information\\'.\\nIf the GPLv3 FOSS will be used in a development tool - will the way the tool function mean that the \\'output\\' from the tool will include any GPLv3 code? If so, the output could be governed by GPLv3 as well. This is a problem if the output will end up on the mobile phone. See question 4.8 above.\"\\n',\n",
       " 'MPL-2.0': '\"You are entitled with the ability to use the software for commercial purposes.\\nYou are entitled with the ability to modify the software and create derivatives.\\nYou are entitled with the ability to distribute original or modified (derivative) works.\\nYou are entitled with the ability to add onto the existing terms (i.e. license parent projects under a different license).\\nYou are not entitled to hold liable if the software/license owner can be charged for damages.\\nThe original copyright must be retained.\\nYou may not use the marks of any Contributor except to pass on copyright, patent and license notices.\\nYou may not remove or alter license notices in the software except to correct known factual errors.\\nYou may not charge for source code form more than it costs to distribute.\"\\n',\n",
       " 'GPL-3.0-only': '\"Ericsson must on each copy publish an appropriate copyright notice and disclaimer of warranty and keep intact all notices that refer to the GPLv3 license.\\nEricsson must distribute a copy of the GPLv3 license along with the FOSS.\\nThe files modified must carry prominent notices stating that you changed the files and the date of any change.\\nIf GPLv3-FOSS is used by some program/executable that has interactive user interfaces, the program/executable must be modified so that the GPLv3 license is displayed as well.\\nEricsson must distribute the Corresponding Source Code of the GPL-FOSS to receivers, including modifications and additions that constitute derivative work within the meaning of GPLv3. The scope of source code to be provided: all source code needed to generate, install and run the object code and to modify the work, including e.g. scripts and interface definition files. But not general-purpose tools.\\nThe source code specified above must be provided to customers, mainly on either (a) a \\'durable physical medium customarily used for software interchange\\', or (b) through access to a \\'designated place\\', which could be network server. (b) is permitted if the object code is also provided from the same designated place or is conveyed using peer-to-peer transmission.\\nEricsson must distribute the GPL-FOSSes and its derivative works under the GPLv3 license terms only, and not under Ericsson\\'s standard proprietary terms. Ericsson may not impose any further restrictions on the recipient\\'s exercise of the rights to the GPL-FOSSes.\\nWill any GPLv3 software be included on Ericsson mobile platform, so that the any GPLv3 code will end up on a mobile phone, tablet or other consumer device? If the answer is YES, then it is highly likely that the FOSS cannot be approved. The reason is that some of Ericsson\\'s customers have explicitly forbidden ST-Ericson to use GPLv3 FOSSes in this way. The background is the so-called anti-tivoization requirements in article 6 of GPLv3, which would require customers to provide \\'Installation Information\\'\\nIf the GPLv3 FOSS will be used in a development tool - will the way the tool function mean that the \\'output\\' from the tool will include any GPLv3 code? If so, the output could be governed by GPLv3 as well. This is a problem if the output will end up on the mobile phone. See question 4.8 above.\"\\n'}"
      ]
     },
     "execution_count": 3,
     "metadata": {},
     "output_type": "execute_result"
    }
   ],
   "source": [
    "import yaml \n",
    "\n",
    "with open(\"obligations_text.yaml\") as f:\n",
    "    license_dict = yaml.load(f, Loader=yaml.FullLoader)\n",
    "\n",
    "license_dict\n"
   ]
  },
  {
   "cell_type": "code",
   "execution_count": 4,
   "metadata": {},
   "outputs": [],
   "source": [
    "import yaml, pandas"
   ]
  },
  {
   "cell_type": "code",
   "execution_count": 5,
   "metadata": {},
   "outputs": [],
   "source": [
    "with open(FOSSA_DEPENDENCIES, \"r\") as f:\n",
    "    dep_dict = yaml.load(f, Loader=yaml.FullLoader)"
   ]
  },
  {
   "cell_type": "code",
   "execution_count": 6,
   "metadata": {},
   "outputs": [],
   "source": [
    "flat_dict = {}\n",
    "invalid_entries = []\n",
    "for entry in dep_dict['dependencies']:\n",
    "    if entry['bazaar']['register'] == \"no\":\n",
    "        primID=entry['bazaar']['prim']\n",
    "        foss_product_number=primID.split(\"/\")[1]\n",
    "        nested_dict = {}\n",
    "        nested_dict[\"ID\"] = entry[\"ID\"]\n",
    "        nested_dict[\"usage\"] = entry['bazaar']['component_highlevel_description']\n",
    "        nested_dict[\"obligation\"] = \"unknown\"\n",
    "        nested_dict[\"license\"] = \"unknown\"\n",
    "        nested_dict[\"primID\"] = primID\n",
    "        if 'selected_licenses' in entry and len(entry['selected_licenses']) > 0:\n",
    "            nested_dict[\"license\"] = entry['selected_licenses'][0]\n",
    "        elif 'selected_licenses' in entry['mimer'] and len(entry['mimer']['selected_licenses']) > 0:\n",
    "            nested_dict[\"license\"] = entry['mimer']['selected_licenses'][0]\n",
    "        elif 'licenses' in entry and len(entry['licenses']) >= 1:\n",
    "            nested_dict[\"license\"] = entry['licenses'][0]\n",
    "        \n",
    "        if nested_dict[\"license\"] in license_dict.keys():\n",
    "            nested_dict[\"obligation\"] = license_dict[nested_dict[\"license\"]]\n",
    "        elif nested_dict[\"license\"] == \"MIT License\":\n",
    "            nested_dict[\"license\"] = \"MIT\"\n",
    "            nested_dict[\"obligation\"] = license_dict[\"MIT\"]\n",
    "        \n",
    "        if nested_dict[\"obligation\"] == \"unknown\" or nested_dict[\"license\"] == \"unknown\":\n",
    "            invalid_entries.append(nested_dict)\n",
    "        else:\n",
    "            if foss_product_number in flat_dict.keys():\n",
    "                flat_dict[foss_product_number].append(nested_dict)\n",
    "            else:\n",
    "                flat_dict[foss_product_number] = [nested_dict]\n"
   ]
  },
  {
   "cell_type": "code",
   "execution_count": 7,
   "metadata": {},
   "outputs": [
    {
     "name": "stdout",
     "output_type": "stream",
     "text": [
      "No invalid entries found\n"
     ]
    }
   ],
   "source": [
    "\n",
    "invalid_entries      \n",
    "\n",
    "if len(invalid_entries) > 0:\n",
    "    print(\"Invalid entries found\")\n",
    "    \n",
    "    import pandas as pd \n",
    "    df = pd.DataFrame(invalid_entries)\n",
    "    df[[\"ID\", \"primID\", \"license\"]].to_csv(f\"unknown_licenses_{COMPONENT}.csv\", index=False)\n",
    "\n",
    "else:\n",
    "    print(\"No invalid entries found\")"
   ]
  },
  {
   "cell_type": "code",
   "execution_count": 8,
   "metadata": {},
   "outputs": [],
   "source": [
    "if len(invalid_entries) > 0:\n",
    "    df.groupby(\"license\")[[\"ID\"]].count()\n",
    "\n"
   ]
  },
  {
   "cell_type": "code",
   "execution_count": 9,
   "metadata": {},
   "outputs": [],
   "source": [
    "from collections import OrderedDict\n",
    "ordered_dict=OrderedDict(sorted(flat_dict.items()))"
   ]
  },
  {
   "cell_type": "code",
   "execution_count": 10,
   "metadata": {},
   "outputs": [
    {
     "data": {
      "text/plain": [
       "[OrderedDict([('product_number', 'CAX1057062'),\n",
       "              ('license', 'BSD-3-Clause'),\n",
       "              ('obligation',\n",
       "               '\"Including the full license text in a prominent place with the software when the FOSS is distributed. \\nThis fulfills the following: Redistributions of source code must retain the above copyright notice, this list of conditions and the license disclaimer.\\nRedistributions in binary form must reproduce the copyright notice, this list of conditions and the disclaimer in the documentation and/or\\nother materials provided with the distribution\"'),\n",
       "              ('usage',\n",
       "               '\"Package oauth2 provides support for making OAuth2 authorized and authenticated HTTP requests. It can additionally grant authorization with Bearer JWT\"')]),\n",
       " OrderedDict([('product_number', 'CAX1057840'),\n",
       "              ('license', 'Apache-2.0'),\n",
       "              ('obligation',\n",
       "               '\"Including the full license text in a prominent place with the software when the FOSS is distributed.\\nThis fulfills the following: Ericsson must give any recipients of the software a copy of the Apache License.\\nEricsson must cause any modified files to carry prominent notices stating that Ericsson changed the files.\\nIn any source form Ericsson distributes, all copyright, patent, trademark and attribution notices must be retained.\\nIf the software includes a NOTICE text file as part of its distribution,\\nthen any derivative work Ericsson distributes must include a readable copy of the attribution notices contained within such NOTICE file.\"'),\n",
       "              ('usage',\n",
       "               '\"etcd is a distributed key value store that provides a reliable way to store data across a cluster of machines. etcd gracefully handles leader elections during network partitions and will tolerate machine failure, including the leader.\"')]),\n",
       " OrderedDict([('product_number', 'CAX1058018'),\n",
       "              ('license', 'BSD-3-Clause'),\n",
       "              ('obligation',\n",
       "               '\"Including the full license text in a prominent place with the software when the FOSS is distributed. \\nThis fulfills the following: Redistributions of source code must retain the above copyright notice, this list of conditions and the license disclaimer.\\nRedistributions in binary form must reproduce the copyright notice, this list of conditions and the disclaimer in the documentation and/or\\nother materials provided with the distribution\"'),\n",
       "              ('usage', '\"The Go programming language\"')]),\n",
       " OrderedDict([('product_number', 'CAX1058636'),\n",
       "              ('license', 'MIT'),\n",
       "              ('obligation',\n",
       "               '\"Including the full license text in a prominent place with the software when the FOSS is distributed.\\nThis fulfills, The MIT copyright notice and the MIT permission notices shall be included in all copies or\\nsubstantial portions of the software (in whatever format, either in binary or in source)\"'),\n",
       "              ('usage', '\"Go supplementary cryptography libraries.\"')]),\n",
       " OrderedDict([('product_number', 'CAX1058653'),\n",
       "              ('license', 'BSD-3-Clause'),\n",
       "              ('obligation',\n",
       "               '\"Including the full license text in a prominent place with the software when the FOSS is distributed. \\nThis fulfills the following: Redistributions of source code must retain the above copyright notice, this list of conditions and the license disclaimer.\\nRedistributions in binary form must reproduce the copyright notice, this list of conditions and the disclaimer in the documentation and/or\\nother materials provided with the distribution\"'),\n",
       "              ('usage',\n",
       "               '\"Net Package - provides a portable interface for network I/O, including TCP/IP, UDP, domain name resolution, and Unix domain sockets. Context Package - defines the Context type, which carries deadlines, cancelation signals, and other request-scoped values across API boundaries and between processes.\"')]),\n",
       " OrderedDict([('product_number', 'CAX1059570'),\n",
       "              ('license', 'BSD-3-Clause'),\n",
       "              ('obligation',\n",
       "               '\"Including the full license text in a prominent place with the software when the FOSS is distributed. \\nThis fulfills the following: Redistributions of source code must retain the above copyright notice, this list of conditions and the license disclaimer.\\nRedistributions in binary form must reproduce the copyright notice, this list of conditions and the disclaimer in the documentation and/or\\nother materials provided with the distribution\"'),\n",
       "              ('usage',\n",
       "               '\"Cross-platform file system notifications for Go.\"')]),\n",
       " OrderedDict([('product_number', 'CAX1059580'),\n",
       "              ('license', 'BSD-2-Clause'),\n",
       "              ('obligation',\n",
       "               '\"Including the full license text in a prominent place with the software when the FOSS is distributed. \\nThis fulfills the following: Redistributions of source code must retain the above copyright notice, this list of conditions and the license disclaimer.\\nRedistributions in binary form must reproduce the copyright notice, this list of conditions and the disclaimer in the documentation and/or\\nother materials provided with the distribution\"'),\n",
       "              ('usage',\n",
       "               '\"Package errors provides simple error handling primitives.\"')]),\n",
       " OrderedDict([('product_number', 'CAX1059635'),\n",
       "              ('license', 'BSD-3-Clause'),\n",
       "              ('obligation',\n",
       "               '\"Including the full license text in a prominent place with the software when the FOSS is distributed. \\nThis fulfills the following: Redistributions of source code must retain the above copyright notice, this list of conditions and the license disclaimer.\\nRedistributions in binary form must reproduce the copyright notice, this list of conditions and the disclaimer in the documentation and/or\\nother materials provided with the distribution\"'),\n",
       "              ('usage',\n",
       "               '\"This repository holds supplemental Go packages for low-level interactions with the operating system.\"')]),\n",
       " OrderedDict([('product_number', 'CAX1059657'),\n",
       "              ('license', 'MPL-2.0'),\n",
       "              ('obligation',\n",
       "               '\"You are entitled with the ability to use the software for commercial purposes.\\nYou are entitled with the ability to modify the software and create derivatives.\\nYou are entitled with the ability to distribute original or modified (derivative) works.\\nYou are entitled with the ability to add onto the existing terms (i.e. license parent projects under a different license).\\nYou are not entitled to hold liable if the software/license owner can be charged for damages.\\nThe original copyright must be retained.\\nYou may not use the marks of any Contributor except to pass on copyright, patent and license notices.\\nYou may not remove or alter license notices in the software except to correct known factual errors.\\nYou may not charge for source code form more than it costs to distribute.\"'),\n",
       "              ('usage',\n",
       "               '\"An immutable radix tree implementation in Golang\"')]),\n",
       " OrderedDict([('product_number', 'CAX1059658'),\n",
       "              ('license', 'MPL-2.0'),\n",
       "              ('obligation',\n",
       "               '\"You are entitled with the ability to use the software for commercial purposes.\\nYou are entitled with the ability to modify the software and create derivatives.\\nYou are entitled with the ability to distribute original or modified (derivative) works.\\nYou are entitled with the ability to add onto the existing terms (i.e. license parent projects under a different license).\\nYou are not entitled to hold liable if the software/license owner can be charged for damages.\\nThe original copyright must be retained.\\nYou may not use the marks of any Contributor except to pass on copyright, patent and license notices.\\nYou may not remove or alter license notices in the software except to correct known factual errors.\\nYou may not charge for source code form more than it costs to distribute.\"'),\n",
       "              ('usage',\n",
       "               '\"Golang in-memory database built on immutable radix trees\"')])]"
      ]
     },
     "execution_count": 10,
     "metadata": {},
     "output_type": "execute_result"
    }
   ],
   "source": [
    "records=[]\n",
    "quotes='\"'\n",
    "for key,value in ordered_dict.items():\n",
    "    first_entry = value[0] \n",
    "    ordered_dict = OrderedDict()\n",
    "    ordered_dict[\"product_number\"] = key\n",
    "    ordered_dict[\"license\"] = first_entry[\"license\"]\n",
    "    ordered_dict[\"obligation\"] = first_entry[\"obligation\"].rstrip('\\n')\n",
    "    usage = first_entry[\"usage\"].strip('\\\"')\n",
    "    ordered_dict[\"usage\"] = f\"{quotes}{usage}{quotes}\"\n",
    "    records.append(ordered_dict)\n",
    "\n",
    "records[0:10]"
   ]
  },
  {
   "cell_type": "code",
   "execution_count": 11,
   "metadata": {},
   "outputs": [],
   "source": [
    "from jinja2 import Template\n",
    "\n",
    "template = Template(\"\"\"\n",
    "#\n",
    "# COPYRIGHT Ericsson 2023\n",
    "#\n",
    "#\n",
    "#\n",
    "# The copyright to the computer program(s) herein is the property of\n",
    "#\n",
    "# Ericsson Inc. The programs may be used and/or copied only with written\n",
    "#\n",
    "# permission from Ericsson Inc. or in accordance with the terms and\n",
    "#\n",
    "# conditions stipulated in the agreement/contract under which the\n",
    "#\n",
    "# program(s) have been supplied.\n",
    "#\n",
    "\n",
    "modelVersion: 2.0\n",
    "fosses:\n",
    "{%- filter indent(2) -%}\n",
    "{% for record in records %}\n",
    "- product_number: {{ record.product_number }}\n",
    "  license: {{ record.license }}\n",
    "  obligation: |\n",
    "    {{ record.obligation | indent(width=4) }}\n",
    "  usage: |\n",
    "    {{ record.usage | indent(width=4) -}}\n",
    "{% endfor %}\n",
    "{%- endfilter -%}\n",
    "\"\"\")\n"
   ]
  },
  {
   "cell_type": "code",
   "execution_count": 12,
   "metadata": {},
   "outputs": [],
   "source": [
    "output = template.render(records=records)"
   ]
  },
  {
   "cell_type": "code",
   "execution_count": 13,
   "metadata": {},
   "outputs": [],
   "source": [
    "with open(OUTPUT_FILE, 'w') as f:\n",
    "    f.write(output)"
   ]
  },
  {
   "cell_type": "code",
   "execution_count": null,
   "metadata": {},
   "outputs": [],
   "source": []
  }
 ],
 "metadata": {
  "kernelspec": {
   "display_name": "Python 3.8.13 ('test-env-3.8')",
   "language": "python",
   "name": "python3"
  },
  "language_info": {
   "codemirror_mode": {
    "name": "ipython",
    "version": 3
   },
   "file_extension": ".py",
   "mimetype": "text/x-python",
   "name": "python",
   "nbconvert_exporter": "python",
   "pygments_lexer": "ipython3",
   "version": "3.8.13"
  },
  "orig_nbformat": 4,
  "vscode": {
   "interpreter": {
    "hash": "b2c512db8b59e6637dbadeefe5e52ed26f81f17dffafeed8e966e40243c3baf9"
   }
  }
 },
 "nbformat": 4,
 "nbformat_minor": 2
}
